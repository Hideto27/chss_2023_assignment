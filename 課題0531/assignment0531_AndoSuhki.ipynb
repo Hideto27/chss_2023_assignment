{
 "cells": [
  {
   "attachments": {},
   "cell_type": "markdown",
   "metadata": {},
   "source": [
    "# 課題0531\n",
    "\n",
    "そのまま課題ファイルで編集しないでください。課題ファイルを複製してから課題を回答してください。"
   ]
  },
  {
   "attachments": {},
   "cell_type": "markdown",
   "metadata": {},
   "source": [
    "## 課題1\n",
    "\n",
    "被除数と除数を指定し、割り算の結果を計算する関数を作成してください。\n",
    "- 余りがない場合、商だけを返します。\n",
    "- 余りがある場合、商と余りを返します。\n",
    "- 計算不可能の場合、「計算できません」というエラーを表示してください"
   ]
  },
  {
   "cell_type": "code",
   "execution_count": 23,
   "metadata": {},
   "outputs": [
    {
     "name": "stdout",
     "output_type": "stream",
     "text": [
      "(2, 2)\n"
     ]
    }
   ],
   "source": [
    "def warizan(x,y):\n",
    "    if y==0:\n",
    "        result=print(\"計算できません\")\n",
    "    elif x%y>0:\n",
    "        result=(x//y,x%y)\n",
    "    else:\n",
    "        result=(x/y)\n",
    "    return result\n",
    "\n",
    "result=warizan(x,y)\n",
    "print(result)\n"
   ]
  },
  {
   "attachments": {},
   "cell_type": "markdown",
   "metadata": {},
   "source": [
    "## 課題2\n",
    "\n",
    "ユークリッドの互除法の関数を作成してください。\n",
    "\n",
    "ユークリッドの互除法とは、2つの整数、aとbの最大公約数を求めるアルゴリズムです。例えば、2485と1162の最大公約数を求めたい場合\n",
    "\n",
    "$2485 \\div 1162 = 2 余り 161$ \n",
    "\n",
    "$1162 \\div 161 = 7 余り 35$ \n",
    "\n",
    "$161 \\div 35 = 4 余り 21$ \n",
    "\n",
    "$35 \\div 21 = 1 余り 14$\n",
    "\n",
    "$21 \\div 14 = 1 余り 7$\n",
    "\n",
    "$14 \\div 7 = 2 余り 0$\n",
    "\n",
    "割る数と余りを次回の割られる数と割る数にして、次々と計算し、最後に割り切れたら終わりで、最後の割る数が最大公約数です。\n",
    "\n",
    "\n",
    "- 除数が$0$によるエラーを制御してください。\n",
    "- 引数に渡す値の大小関係を考慮してください。除数が被除数より大きい場合は、自動的に値を入れ替えてください。\n"
   ]
  },
  {
   "cell_type": "code",
   "execution_count": 16,
   "metadata": {},
   "outputs": [
    {
     "name": "stdout",
     "output_type": "stream",
     "text": [
      "計算できません\n",
      "False\n"
     ]
    }
   ],
   "source": [
    "def euclid(a,b):\n",
    "    if b>a:\n",
    "        m=b%a\n",
    "        while m!=0:\n",
    "            b=a\n",
    "            a=m\n",
    "            m=b%a\n",
    "        return a\n",
    "    else:\n",
    "        if b==0:\n",
    "            return result==print(\"計算できません\")\n",
    "        else :\n",
    "            m=a%b\n",
    "            while m!=0:\n",
    "                a=b\n",
    "                b=m\n",
    "                m=a%b\n",
    "            return b\n",
    "      \n",
    "result=euclid(a,b)\n",
    "print(result)"
   ]
  },
  {
   "cell_type": "code",
   "execution_count": 17,
   "metadata": {},
   "outputs": [
    {
     "name": "stdout",
     "output_type": "stream",
     "text": [
      "7\n"
     ]
    }
   ],
   "source": [
    "#テスト用データ\n",
    "a = 2485\n",
    "b = 1162\n",
    "def euclid(a,b):\n",
    "    if b>a:\n",
    "        m=b%a\n",
    "        while m!=0:\n",
    "            b=a\n",
    "            a=m\n",
    "            m=b%a\n",
    "        return a\n",
    "    else:\n",
    "        if b==0:\n",
    "            return result==print(\"計算できません\")\n",
    "        else :\n",
    "            m=a%b\n",
    "            while m!=0:\n",
    "                a=b\n",
    "                b=m\n",
    "                m=a%b\n",
    "            return b\n",
    "      \n",
    "result=euclid(2485,1162)\n",
    "print(result)\n"
   ]
  },
  {
   "cell_type": "code",
   "execution_count": 14,
   "metadata": {},
   "outputs": [
    {
     "name": "stdout",
     "output_type": "stream",
     "text": [
      "計算できません\n",
      "False\n"
     ]
    }
   ],
   "source": [
    "#テスト用データ\n",
    "a = 2485\n",
    "b = 0\n",
    "\n",
    "def euclid(a,b):\n",
    "    if b>a:\n",
    "        m=b%a\n",
    "        while m!=0:\n",
    "            b=a\n",
    "            a=m\n",
    "            m=b%a\n",
    "        return a\n",
    "    else:\n",
    "        if b==0:\n",
    "            return result==print(\"計算できません\")\n",
    "        else :\n",
    "            m=a%b\n",
    "            while m!=0:\n",
    "                a=b\n",
    "                b=m\n",
    "                m=a%b\n",
    "            return b\n",
    "      \n",
    "result=euclid(2485,0)\n",
    "print(result)"
   ]
  },
  {
   "cell_type": "code",
   "execution_count": 11,
   "metadata": {},
   "outputs": [
    {
     "name": "stdout",
     "output_type": "stream",
     "text": [
      "7\n"
     ]
    }
   ],
   "source": [
    "#テスト用データ\n",
    "a = 1162\n",
    "b = 2485\n",
    "def euclid(a,b):\n",
    "    if b>a:\n",
    "        m=b%a\n",
    "        while m!=0:\n",
    "            b=a\n",
    "            a=m\n",
    "            m=b%a\n",
    "        return a\n",
    "    else:\n",
    "        if b==0:\n",
    "            return result==print(\"計算できません\")\n",
    "        else :\n",
    "            m=a%b\n",
    "            while m!=0:\n",
    "                a=b\n",
    "                b=m\n",
    "                m=a%b\n",
    "            return b\n",
    "      \n",
    "result=euclid(1162,2485)\n",
    "print(result)"
   ]
  },
  {
   "attachments": {},
   "cell_type": "markdown",
   "metadata": {},
   "source": [
    "## 課題3\n",
    "\n",
    "入れ子になったリストを平らにしててくだい。\n",
    "\n",
    "できるだけ授業中で説明した多重な```if-else```以外の方法で解答してください。"
   ]
  },
  {
   "cell_type": "code",
   "execution_count": 6,
   "metadata": {},
   "outputs": [
    {
     "name": "stdout",
     "output_type": "stream",
     "text": [
      "[1, 2, 3, 4, 5]\n"
     ]
    }
   ],
   "source": [
    "#\"よくわからなかったのでインターネットを参考にして回答しました\"\n",
    "list1=[1, [2, 3], [4, [5]]]\n",
    "\n",
    "def flat(list1):\n",
    "    new_list=[]\n",
    "    a=[list1]\n",
    "    while len(a)>0:\n",
    "        b=a.pop(0)\n",
    "        if isinstance(b, list):\n",
    "            a=b+a\n",
    "        else:\n",
    "            new_list.append(b)\n",
    "    return new_list\n",
    "\n",
    "result=flat(list1)\n",
    "print(result)"
   ]
  }
 ],
 "metadata": {
  "kernelspec": {
   "display_name": "Python 3",
   "language": "python",
   "name": "python3"
  },
  "language_info": {
   "codemirror_mode": {
    "name": "ipython",
    "version": 3
   },
   "file_extension": ".py",
   "mimetype": "text/x-python",
   "name": "python",
   "nbconvert_exporter": "python",
   "pygments_lexer": "ipython3",
   "version": "3.10.9"
  },
  "orig_nbformat": 4
 },
 "nbformat": 4,
 "nbformat_minor": 2
}
