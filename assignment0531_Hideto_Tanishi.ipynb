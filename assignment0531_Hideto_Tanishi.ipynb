{
  "cells": [
    {
      "cell_type": "markdown",
      "metadata": {
        "id": "view-in-github",
        "colab_type": "text"
      },
      "source": [
        "<a href=\"https://colab.research.google.com/github/Hideto27/chss_2023_assignment/blob/main/assignment0531_Hideto_Tanishi.ipynb\" target=\"_parent\"><img src=\"https://colab.research.google.com/assets/colab-badge.svg\" alt=\"Open In Colab\"/></a>"
      ]
    },
    {
      "cell_type": "markdown",
      "metadata": {
        "id": "1_SPhk7f6vOg"
      },
      "source": [
        "# 課題0531\n",
        "\n",
        "そのまま課題ファイルで編集しないでください。課題ファイルを複製してから課題を回答してください。"
      ]
    },
    {
      "cell_type": "markdown",
      "metadata": {
        "id": "PpjJZUE16vPA"
      },
      "source": [
        "## 課題1\n",
        "\n",
        "被除数と除数を指定し、割り算の結果を計算する関数を作成してください。\n",
        "- 余りがない場合、商だけを返します。\n",
        "- 余りがある場合、商と余りを返します。\n",
        "- 計算不可能の場合、「計算できません」というエラーを表示してください"
      ]
    },
    {
      "cell_type": "code",
      "source": [
        "def warizan(x,y):\n",
        "  try:\n",
        "   if x%y == 0:\n",
        "    sho = x/y\n",
        "    return sho\n",
        "   else:\n",
        "    sho = x//y\n",
        "    amari = x%y\n",
        "    return sho, amari\n",
        "  except:\n",
        "      print(\"計算できません\")"
      ],
      "metadata": {
        "id": "TLEIZ64a638v"
      },
      "execution_count": 8,
      "outputs": []
    },
    {
      "cell_type": "code",
      "source": [
        "warizan(100,10)"
      ],
      "metadata": {
        "colab": {
          "base_uri": "https://localhost:8080/"
        },
        "id": "56nbhZNe-FX6",
        "outputId": "a4d6d899-da8c-4948-d6e1-c56d38a948e8"
      },
      "execution_count": 5,
      "outputs": [
        {
          "output_type": "execute_result",
          "data": {
            "text/plain": [
              "10.0"
            ]
          },
          "metadata": {},
          "execution_count": 5
        }
      ]
    },
    {
      "cell_type": "code",
      "source": [
        "warizan(10,3)"
      ],
      "metadata": {
        "colab": {
          "base_uri": "https://localhost:8080/"
        },
        "id": "pi86vGVS-KOO",
        "outputId": "0202fba0-d65e-43b9-faa2-6221c6c01f9f"
      },
      "execution_count": 6,
      "outputs": [
        {
          "output_type": "execute_result",
          "data": {
            "text/plain": [
              "(3, 1)"
            ]
          },
          "metadata": {},
          "execution_count": 6
        }
      ]
    },
    {
      "cell_type": "code",
      "source": [
        "warizan(5,0)"
      ],
      "metadata": {
        "colab": {
          "base_uri": "https://localhost:8080/"
        },
        "id": "9q1EDI2m-PIb",
        "outputId": "440739fe-42ee-4365-df15-d421756c9a80"
      },
      "execution_count": 9,
      "outputs": [
        {
          "output_type": "stream",
          "name": "stdout",
          "text": [
            "計算できません\n"
          ]
        }
      ]
    },
    {
      "cell_type": "markdown",
      "metadata": {
        "id": "ZeMISjf_6vPF"
      },
      "source": [
        "## 課題2\n",
        "\n",
        "ユークリッドの互除法の関数を作成してください。\n",
        "\n",
        "ユークリッドの互除法とは、2つの整数、aとbの最大公約数を求めるアルゴリズムです。例えば、2485と1162の最大公約数を求めたい場合\n",
        "\n",
        "$2485 \\div 1162 = 2 余り 161$ \n",
        "\n",
        "$1162 \\div 161 = 7 余り 35$ \n",
        "\n",
        "$161 \\div 35 = 4 余り 21$ \n",
        "\n",
        "$35 \\div 21 = 1 余り 14$\n",
        "\n",
        "$21 \\div 14 = 1 余り 7$\n",
        "\n",
        "$14 \\div 7 = 2 余り 0$\n",
        "\n",
        "割る数と余りを次回の割られる数と割る数にして、次々と計算し、最後に割り切れたら終わりで、最後の割る数が最大公約数です。\n",
        "\n",
        "\n",
        "- 除数が$0$によるエラーを制御してください。\n",
        "- 引数に渡す値の大小関係を考慮してください。除数が被除数より大きい場合は、自動的に値を入れ替えてください。\n"
      ]
    },
    {
      "cell_type": "code",
      "source": [
        "def gojyo(a, b):\n",
        "  if b == 0:\n",
        "    return print(\"計算できません\")\n",
        "  elif a >= b: \n",
        "    r = a % b\n",
        "    while r != 0:\n",
        "      a, b = b, r\n",
        "      r = a % b\n",
        "    return b\n",
        "  else:\n",
        "    r = b % a   \n",
        "    while r != 0:\n",
        "      b, a = a, r\n",
        "      r = b % a\n",
        "    return a"
      ],
      "metadata": {
        "id": "Zx-L5MgAC7yH"
      },
      "execution_count": 12,
      "outputs": []
    },
    {
      "cell_type": "code",
      "execution_count": 13,
      "metadata": {
        "colab": {
          "base_uri": "https://localhost:8080/"
        },
        "id": "SI0Yz8t_6vPK",
        "outputId": "93145b2e-e3c8-4c8d-940f-3a30b6199ba2"
      },
      "outputs": [
        {
          "output_type": "execute_result",
          "data": {
            "text/plain": [
              "7"
            ]
          },
          "metadata": {},
          "execution_count": 13
        }
      ],
      "source": [
        "#テスト用データ\n",
        "a = 2485\n",
        "b = 1162\n",
        "gojyo(a,b)"
      ]
    },
    {
      "cell_type": "code",
      "execution_count": 14,
      "metadata": {
        "colab": {
          "base_uri": "https://localhost:8080/"
        },
        "id": "MgwHTVS_6vPU",
        "outputId": "bda8e3f8-3d8b-4fad-a2fd-93ffd4b794e9"
      },
      "outputs": [
        {
          "output_type": "stream",
          "name": "stdout",
          "text": [
            "計算できません\n"
          ]
        }
      ],
      "source": [
        "#テスト用データ\n",
        "a = 2485\n",
        "b = 0\n",
        "gojyo(a,b)"
      ]
    },
    {
      "cell_type": "code",
      "execution_count": 15,
      "metadata": {
        "colab": {
          "base_uri": "https://localhost:8080/"
        },
        "id": "h3m2Qwkl6vPX",
        "outputId": "8ca8da14-4ae9-475c-ea3a-9c61a00aaa3b"
      },
      "outputs": [
        {
          "output_type": "execute_result",
          "data": {
            "text/plain": [
              "7"
            ]
          },
          "metadata": {},
          "execution_count": 15
        }
      ],
      "source": [
        "#テスト用データ\n",
        "a = 1162\n",
        "b = 2485\n",
        "gojyo(a,b)"
      ]
    },
    {
      "cell_type": "markdown",
      "metadata": {
        "id": "5f3biztq6vPc"
      },
      "source": [
        "## 課題3\n",
        "\n",
        "入れ子になったリストを平らにしててくだい。\n",
        "\n",
        "できるだけ授業中で説明した多重な```if-else```以外の方法で解答してください。"
      ]
    },
    {
      "cell_type": "code",
      "source": [
        "list1=[1, [2, 3], [4, [5]]]\n",
        "\n",
        "def taira(list1):\n",
        "    kara = []\n",
        "    kari = [list1]\n",
        "    while len(kari) > 0:\n",
        "        youso = kari.pop(0)\n",
        "        if type(youso) == list:\n",
        "            kari = youso + kari\n",
        "        else:\n",
        "            kara.append(youso)\n",
        "    return kara\n",
        "\n",
        "taira([1, [2, 3], [4, [5]]])"
      ],
      "metadata": {
        "colab": {
          "base_uri": "https://localhost:8080/"
        },
        "id": "sm8_xQ33Ryr4",
        "outputId": "146ede09-d2a6-4c03-b59f-17875a881994"
      },
      "execution_count": 46,
      "outputs": [
        {
          "output_type": "execute_result",
          "data": {
            "text/plain": [
              "[1, 2, 3, 4, 5]"
            ]
          },
          "metadata": {},
          "execution_count": 46
        }
      ]
    }
  ],
  "metadata": {
    "kernelspec": {
      "display_name": "Python 3",
      "language": "python",
      "name": "python3"
    },
    "language_info": {
      "codemirror_mode": {
        "name": "ipython",
        "version": 3
      },
      "file_extension": ".py",
      "mimetype": "text/x-python",
      "name": "python",
      "nbconvert_exporter": "python",
      "pygments_lexer": "ipython3",
      "version": "3.9.6"
    },
    "orig_nbformat": 4,
    "colab": {
      "provenance": [],
      "include_colab_link": true
    }
  },
  "nbformat": 4,
  "nbformat_minor": 0
}